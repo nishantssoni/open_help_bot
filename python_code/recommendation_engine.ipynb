{
 "cells": [
  {
   "cell_type": "code",
   "execution_count": 1,
   "metadata": {},
   "outputs": [],
   "source": [
    "import pandas as pd\n",
    "from mlxtend.frequent_patterns import apriori, association_rules"
   ]
  },
  {
   "cell_type": "markdown",
   "metadata": {},
   "source": [
    "## Read dataset"
   ]
  },
  {
   "cell_type": "code",
   "execution_count": 150,
   "metadata": {},
   "outputs": [],
   "source": [
    "sales_receipt_df = pd.read_csv('./datasets/201904 sales reciepts.csv')\n",
    "products_df = pd.read_csv('./datasets/product.csv')"
   ]
  },
  {
   "cell_type": "code",
   "execution_count": 151,
   "metadata": {},
   "outputs": [
    {
     "data": {
      "text/html": [
       "<div>\n",
       "<style scoped>\n",
       "    .dataframe tbody tr th:only-of-type {\n",
       "        vertical-align: middle;\n",
       "    }\n",
       "\n",
       "    .dataframe tbody tr th {\n",
       "        vertical-align: top;\n",
       "    }\n",
       "\n",
       "    .dataframe thead th {\n",
       "        text-align: right;\n",
       "    }\n",
       "</style>\n",
       "<table border=\"1\" class=\"dataframe\">\n",
       "  <thead>\n",
       "    <tr style=\"text-align: right;\">\n",
       "      <th></th>\n",
       "      <th>transaction_id</th>\n",
       "      <th>transaction_date</th>\n",
       "      <th>transaction_time</th>\n",
       "      <th>sales_outlet_id</th>\n",
       "      <th>staff_id</th>\n",
       "      <th>customer_id</th>\n",
       "      <th>instore_yn</th>\n",
       "      <th>order</th>\n",
       "      <th>line_item_id</th>\n",
       "      <th>product_id</th>\n",
       "      <th>quantity</th>\n",
       "      <th>line_item_amount</th>\n",
       "      <th>unit_price</th>\n",
       "      <th>promo_item_yn</th>\n",
       "    </tr>\n",
       "  </thead>\n",
       "  <tbody>\n",
       "    <tr>\n",
       "      <th>0</th>\n",
       "      <td>7</td>\n",
       "      <td>2019-04-01</td>\n",
       "      <td>12:04:43</td>\n",
       "      <td>3</td>\n",
       "      <td>12</td>\n",
       "      <td>558</td>\n",
       "      <td>N</td>\n",
       "      <td>1</td>\n",
       "      <td>1</td>\n",
       "      <td>52</td>\n",
       "      <td>1</td>\n",
       "      <td>2.5</td>\n",
       "      <td>2.5</td>\n",
       "      <td>N</td>\n",
       "    </tr>\n",
       "    <tr>\n",
       "      <th>1</th>\n",
       "      <td>11</td>\n",
       "      <td>2019-04-01</td>\n",
       "      <td>15:54:39</td>\n",
       "      <td>3</td>\n",
       "      <td>17</td>\n",
       "      <td>781</td>\n",
       "      <td>N</td>\n",
       "      <td>1</td>\n",
       "      <td>1</td>\n",
       "      <td>27</td>\n",
       "      <td>2</td>\n",
       "      <td>7.0</td>\n",
       "      <td>3.5</td>\n",
       "      <td>N</td>\n",
       "    </tr>\n",
       "  </tbody>\n",
       "</table>\n",
       "</div>"
      ],
      "text/plain": [
       "   transaction_id transaction_date transaction_time  sales_outlet_id  \\\n",
       "0               7       2019-04-01         12:04:43                3   \n",
       "1              11       2019-04-01         15:54:39                3   \n",
       "\n",
       "   staff_id  customer_id instore_yn  order  line_item_id  product_id  \\\n",
       "0        12          558          N      1             1          52   \n",
       "1        17          781          N      1             1          27   \n",
       "\n",
       "   quantity  line_item_amount  unit_price promo_item_yn  \n",
       "0         1               2.5         2.5             N  \n",
       "1         2               7.0         3.5             N  "
      ]
     },
     "execution_count": 151,
     "metadata": {},
     "output_type": "execute_result"
    }
   ],
   "source": [
    "sales_receipt_df.head(2)"
   ]
  },
  {
   "cell_type": "code",
   "execution_count": 152,
   "metadata": {},
   "outputs": [
    {
     "data": {
      "text/html": [
       "<div>\n",
       "<style scoped>\n",
       "    .dataframe tbody tr th:only-of-type {\n",
       "        vertical-align: middle;\n",
       "    }\n",
       "\n",
       "    .dataframe tbody tr th {\n",
       "        vertical-align: top;\n",
       "    }\n",
       "\n",
       "    .dataframe thead th {\n",
       "        text-align: right;\n",
       "    }\n",
       "</style>\n",
       "<table border=\"1\" class=\"dataframe\">\n",
       "  <thead>\n",
       "    <tr style=\"text-align: right;\">\n",
       "      <th></th>\n",
       "      <th>product_id</th>\n",
       "      <th>product_group</th>\n",
       "      <th>product_category</th>\n",
       "      <th>product_type</th>\n",
       "      <th>product</th>\n",
       "      <th>product_description</th>\n",
       "      <th>unit_of_measure</th>\n",
       "      <th>current_wholesale_price</th>\n",
       "      <th>current_retail_price</th>\n",
       "      <th>tax_exempt_yn</th>\n",
       "      <th>promo_yn</th>\n",
       "      <th>new_product_yn</th>\n",
       "    </tr>\n",
       "  </thead>\n",
       "  <tbody>\n",
       "    <tr>\n",
       "      <th>0</th>\n",
       "      <td>1</td>\n",
       "      <td>Whole Bean/Teas</td>\n",
       "      <td>Coffee beans</td>\n",
       "      <td>Organic Beans</td>\n",
       "      <td>Brazilian - Organic</td>\n",
       "      <td>It's like Carnival in a cup. Clean and smooth.</td>\n",
       "      <td>12 oz</td>\n",
       "      <td>14.4</td>\n",
       "      <td>$18.00</td>\n",
       "      <td>Y</td>\n",
       "      <td>N</td>\n",
       "      <td>N</td>\n",
       "    </tr>\n",
       "    <tr>\n",
       "      <th>1</th>\n",
       "      <td>2</td>\n",
       "      <td>Whole Bean/Teas</td>\n",
       "      <td>Coffee beans</td>\n",
       "      <td>House blend Beans</td>\n",
       "      <td>Our Old Time Diner Blend</td>\n",
       "      <td>Out packed blend of beans that is reminiscent ...</td>\n",
       "      <td>12 oz</td>\n",
       "      <td>14.4</td>\n",
       "      <td>$18.00</td>\n",
       "      <td>Y</td>\n",
       "      <td>N</td>\n",
       "      <td>N</td>\n",
       "    </tr>\n",
       "  </tbody>\n",
       "</table>\n",
       "</div>"
      ],
      "text/plain": [
       "   product_id    product_group product_category       product_type  \\\n",
       "0           1  Whole Bean/Teas     Coffee beans      Organic Beans   \n",
       "1           2  Whole Bean/Teas     Coffee beans  House blend Beans   \n",
       "\n",
       "                    product  \\\n",
       "0       Brazilian - Organic   \n",
       "1  Our Old Time Diner Blend   \n",
       "\n",
       "                                 product_description unit_of_measure  \\\n",
       "0     It's like Carnival in a cup. Clean and smooth.           12 oz   \n",
       "1  Out packed blend of beans that is reminiscent ...           12 oz   \n",
       "\n",
       "   current_wholesale_price current_retail_price tax_exempt_yn promo_yn  \\\n",
       "0                     14.4              $18.00              Y        N   \n",
       "1                     14.4              $18.00              Y        N   \n",
       "\n",
       "  new_product_yn  \n",
       "0              N  \n",
       "1              N  "
      ]
     },
     "execution_count": 152,
     "metadata": {},
     "output_type": "execute_result"
    }
   ],
   "source": [
    "products_df.head(2)"
   ]
  },
  {
   "cell_type": "markdown",
   "metadata": {},
   "source": [
    "## Data Wrangling"
   ]
  },
  {
   "cell_type": "code",
   "execution_count": 153,
   "metadata": {},
   "outputs": [],
   "source": [
    "# filter out the relevent data\n",
    "sales_receipt_df = sales_receipt_df[['transaction_id','transaction_date','sales_outlet_id','customer_id','product_id','quantity']]\n",
    "products_df = products_df[['product_id','product_category','product']]"
   ]
  },
  {
   "cell_type": "code",
   "execution_count": 154,
   "metadata": {},
   "outputs": [
    {
     "data": {
      "text/html": [
       "<div>\n",
       "<style scoped>\n",
       "    .dataframe tbody tr th:only-of-type {\n",
       "        vertical-align: middle;\n",
       "    }\n",
       "\n",
       "    .dataframe tbody tr th {\n",
       "        vertical-align: top;\n",
       "    }\n",
       "\n",
       "    .dataframe thead th {\n",
       "        text-align: right;\n",
       "    }\n",
       "</style>\n",
       "<table border=\"1\" class=\"dataframe\">\n",
       "  <thead>\n",
       "    <tr style=\"text-align: right;\">\n",
       "      <th></th>\n",
       "      <th>transaction_id</th>\n",
       "      <th>transaction_date</th>\n",
       "      <th>sales_outlet_id</th>\n",
       "      <th>customer_id</th>\n",
       "      <th>product_id</th>\n",
       "      <th>quantity</th>\n",
       "      <th>product_category</th>\n",
       "      <th>product</th>\n",
       "    </tr>\n",
       "  </thead>\n",
       "  <tbody>\n",
       "    <tr>\n",
       "      <th>0</th>\n",
       "      <td>7</td>\n",
       "      <td>2019-04-01</td>\n",
       "      <td>3</td>\n",
       "      <td>558</td>\n",
       "      <td>52</td>\n",
       "      <td>1</td>\n",
       "      <td>Tea</td>\n",
       "      <td>Traditional Blend Chai Rg</td>\n",
       "    </tr>\n",
       "    <tr>\n",
       "      <th>1</th>\n",
       "      <td>11</td>\n",
       "      <td>2019-04-01</td>\n",
       "      <td>3</td>\n",
       "      <td>781</td>\n",
       "      <td>27</td>\n",
       "      <td>2</td>\n",
       "      <td>Coffee</td>\n",
       "      <td>Brazilian Lg</td>\n",
       "    </tr>\n",
       "  </tbody>\n",
       "</table>\n",
       "</div>"
      ],
      "text/plain": [
       "   transaction_id transaction_date  sales_outlet_id  customer_id  product_id  \\\n",
       "0               7       2019-04-01                3          558          52   \n",
       "1              11       2019-04-01                3          781          27   \n",
       "\n",
       "   quantity product_category                    product  \n",
       "0         1              Tea  Traditional Blend Chai Rg  \n",
       "1         2           Coffee               Brazilian Lg  "
      ]
     },
     "execution_count": 154,
     "metadata": {},
     "output_type": "execute_result"
    }
   ],
   "source": [
    "# merging the datasets\n",
    "df = pd.merge(sales_receipt_df, products_df, how='left', on='product_id')\n",
    "df.head(2)"
   ]
  },
  {
   "cell_type": "markdown",
   "metadata": {},
   "source": [
    "### removing the sizes Lg, Sm, Rg and irrelevent items from the dataset and finding the category"
   ]
  },
  {
   "cell_type": "code",
   "execution_count": 155,
   "metadata": {},
   "outputs": [
    {
     "name": "stdout",
     "output_type": "stream",
     "text": [
      "before ::  ['Brazilian Lg' 'Brazilian Sm' 'Brazilian Rg' 'Brazilian - Organic']\n",
      "after :: ['Brazilian' 'Brazilian - Organic']\n"
     ]
    }
   ],
   "source": [
    "# this is the before sizes\n",
    "print(\"before :: \",df[df['product'].str.contains('Brazilian')]['product'].unique())\n",
    "\n",
    "# replacing the sizes value with nothing\n",
    "df['product'] = df['product'].str.replace(' Lg', '')\n",
    "df['product'] = df['product'].str.replace(' Sm', '')\n",
    "df['product'] = df['product'].str.replace(' Rg', '')\n",
    "\n",
    "# this is after\n",
    "print(\"after ::\", df[df['product'].str.contains('Brazilian')]['product'].unique())"
   ]
  },
  {
   "cell_type": "code",
   "execution_count": 156,
   "metadata": {},
   "outputs": [
    {
     "name": "stdout",
     "output_type": "stream",
     "text": [
      "['Almond Croissant', 'Brazilian', 'Brazilian - Organic', 'Cappuccino', 'Carmel syrup', 'Chili Mayan', 'Chocolate Chip Biscotti', 'Chocolate Croissant', 'Chocolate syrup', 'Civet Cat', 'Columbian Medium Roast', 'Cranberry Scone', 'Croissant', 'Dark chocolate', 'Earl Grey', 'English Breakfast', 'Espresso Roast', 'Espresso shot', 'Ethiopia', 'Ginger Biscotti', 'Ginger Scone', 'Guatemalan Sustainably Grown', 'Hazelnut Biscotti', 'Hazelnut syrup', 'I Need My Bean! Diner mug', 'I Need My Bean! Latte cup', 'I Need My Bean! T-shirt', 'Jamacian Coffee River', 'Jamaican Coffee River', 'Jumbo Savory Scone', 'Latte', 'Lemon Grass', 'Morning Sunrise Chai', 'Oatmeal Scone', 'Organic Decaf Blend', 'Our Old Time Diner Blend', 'Ouro Brasileiro shot', 'Peppermint', 'Primo Espresso Roast', 'Scottish Cream Scone ', 'Serenity Green Tea', 'Spicy Eye Opener Chai', 'Sugar Free Vanilla syrup', 'Sustainably Grown Organic', 'Traditional Blend Chai']\n"
     ]
    }
   ],
   "source": [
    "print(sorted(list(df['product'].unique())))"
   ]
  },
  {
   "cell_type": "code",
   "execution_count": 157,
   "metadata": {},
   "outputs": [
    {
     "data": {
      "text/html": [
       "<div>\n",
       "<style scoped>\n",
       "    .dataframe tbody tr th:only-of-type {\n",
       "        vertical-align: middle;\n",
       "    }\n",
       "\n",
       "    .dataframe tbody tr th {\n",
       "        vertical-align: top;\n",
       "    }\n",
       "\n",
       "    .dataframe thead th {\n",
       "        text-align: right;\n",
       "    }\n",
       "</style>\n",
       "<table border=\"1\" class=\"dataframe\">\n",
       "  <thead>\n",
       "    <tr style=\"text-align: right;\">\n",
       "      <th></th>\n",
       "      <th>transaction_id</th>\n",
       "      <th>transaction_date</th>\n",
       "      <th>sales_outlet_id</th>\n",
       "      <th>customer_id</th>\n",
       "      <th>product_id</th>\n",
       "      <th>quantity</th>\n",
       "      <th>product_category</th>\n",
       "      <th>product</th>\n",
       "    </tr>\n",
       "  </thead>\n",
       "  <tbody>\n",
       "    <tr>\n",
       "      <th>16</th>\n",
       "      <td>108</td>\n",
       "      <td>2019-04-01</td>\n",
       "      <td>3</td>\n",
       "      <td>65</td>\n",
       "      <td>40</td>\n",
       "      <td>1</td>\n",
       "      <td>Coffee</td>\n",
       "      <td>Cappuccino</td>\n",
       "    </tr>\n",
       "    <tr>\n",
       "      <th>17</th>\n",
       "      <td>112</td>\n",
       "      <td>2019-04-01</td>\n",
       "      <td>3</td>\n",
       "      <td>90</td>\n",
       "      <td>37</td>\n",
       "      <td>2</td>\n",
       "      <td>Coffee</td>\n",
       "      <td>Espresso shot</td>\n",
       "    </tr>\n",
       "  </tbody>\n",
       "</table>\n",
       "</div>"
      ],
      "text/plain": [
       "    transaction_id transaction_date  sales_outlet_id  customer_id  product_id  \\\n",
       "16             108       2019-04-01                3           65          40   \n",
       "17             112       2019-04-01                3           90          37   \n",
       "\n",
       "    quantity product_category        product  \n",
       "16         1           Coffee     Cappuccino  \n",
       "17         2           Coffee  Espresso shot  "
      ]
     },
     "execution_count": 157,
     "metadata": {},
     "output_type": "execute_result"
    }
   ],
   "source": [
    "# the item which i select from the dataset\n",
    "products_to_consider = ['Cappuccino','Latte','Espresso shot','Dark chocolate ','Dark chocolate','Sugar Free Vanilla syrup','Chocolate syrup',\n",
    "                        'Carmel syrup','Hazelnut syrup','Ginger Scone','Chocolate Croissant','Jumbo Savory Scone','Cranberry Scone',\n",
    "                        'Hazelnut Biscotti','Croissant','Almond Croissant','Oatmeal Scone','Chocolate Chip Biscotti','Ginger Biscotti']\n",
    "\n",
    "# filtering the dataset\n",
    "df = df[df['product'].isin(products_to_consider)]\n",
    "df.head(2)"
   ]
  },
  {
   "cell_type": "code",
   "execution_count": 158,
   "metadata": {},
   "outputs": [
    {
     "data": {
      "text/html": [
       "<div>\n",
       "<style scoped>\n",
       "    .dataframe tbody tr th:only-of-type {\n",
       "        vertical-align: middle;\n",
       "    }\n",
       "\n",
       "    .dataframe tbody tr th {\n",
       "        vertical-align: top;\n",
       "    }\n",
       "\n",
       "    .dataframe thead th {\n",
       "        text-align: right;\n",
       "    }\n",
       "</style>\n",
       "<table border=\"1\" class=\"dataframe\">\n",
       "  <thead>\n",
       "    <tr style=\"text-align: right;\">\n",
       "      <th></th>\n",
       "      <th>product</th>\n",
       "      <th>product_category</th>\n",
       "    </tr>\n",
       "  </thead>\n",
       "  <tbody>\n",
       "    <tr>\n",
       "      <th>0</th>\n",
       "      <td>Cappuccino</td>\n",
       "      <td>Coffee</td>\n",
       "    </tr>\n",
       "    <tr>\n",
       "      <th>1</th>\n",
       "      <td>Espresso shot</td>\n",
       "      <td>Coffee</td>\n",
       "    </tr>\n",
       "    <tr>\n",
       "      <th>2</th>\n",
       "      <td>Latte</td>\n",
       "      <td>Coffee</td>\n",
       "    </tr>\n",
       "    <tr>\n",
       "      <th>3</th>\n",
       "      <td>Dark chocolate</td>\n",
       "      <td>Drinking Chocolate</td>\n",
       "    </tr>\n",
       "    <tr>\n",
       "      <th>4</th>\n",
       "      <td>Oatmeal Scone</td>\n",
       "      <td>Bakery</td>\n",
       "    </tr>\n",
       "    <tr>\n",
       "      <th>5</th>\n",
       "      <td>Jumbo Savory Scone</td>\n",
       "      <td>Bakery</td>\n",
       "    </tr>\n",
       "    <tr>\n",
       "      <th>6</th>\n",
       "      <td>Chocolate Chip Biscotti</td>\n",
       "      <td>Bakery</td>\n",
       "    </tr>\n",
       "    <tr>\n",
       "      <th>7</th>\n",
       "      <td>Ginger Biscotti</td>\n",
       "      <td>Bakery</td>\n",
       "    </tr>\n",
       "    <tr>\n",
       "      <th>8</th>\n",
       "      <td>Chocolate Croissant</td>\n",
       "      <td>Bakery</td>\n",
       "    </tr>\n",
       "    <tr>\n",
       "      <th>9</th>\n",
       "      <td>Hazelnut Biscotti</td>\n",
       "      <td>Bakery</td>\n",
       "    </tr>\n",
       "    <tr>\n",
       "      <th>10</th>\n",
       "      <td>Cranberry Scone</td>\n",
       "      <td>Bakery</td>\n",
       "    </tr>\n",
       "    <tr>\n",
       "      <th>11</th>\n",
       "      <td>Croissant</td>\n",
       "      <td>Bakery</td>\n",
       "    </tr>\n",
       "    <tr>\n",
       "      <th>12</th>\n",
       "      <td>Almond Croissant</td>\n",
       "      <td>Bakery</td>\n",
       "    </tr>\n",
       "    <tr>\n",
       "      <th>13</th>\n",
       "      <td>Ginger Scone</td>\n",
       "      <td>Bakery</td>\n",
       "    </tr>\n",
       "    <tr>\n",
       "      <th>14</th>\n",
       "      <td>Chocolate syrup</td>\n",
       "      <td>Flavours</td>\n",
       "    </tr>\n",
       "    <tr>\n",
       "      <th>15</th>\n",
       "      <td>Hazelnut syrup</td>\n",
       "      <td>Flavours</td>\n",
       "    </tr>\n",
       "    <tr>\n",
       "      <th>16</th>\n",
       "      <td>Carmel syrup</td>\n",
       "      <td>Flavours</td>\n",
       "    </tr>\n",
       "    <tr>\n",
       "      <th>17</th>\n",
       "      <td>Sugar Free Vanilla syrup</td>\n",
       "      <td>Flavours</td>\n",
       "    </tr>\n",
       "    <tr>\n",
       "      <th>18</th>\n",
       "      <td>Dark chocolate</td>\n",
       "      <td>Packaged Chocolate</td>\n",
       "    </tr>\n",
       "  </tbody>\n",
       "</table>\n",
       "</div>"
      ],
      "text/plain": [
       "                     product    product_category\n",
       "0                 Cappuccino              Coffee\n",
       "1              Espresso shot              Coffee\n",
       "2                      Latte              Coffee\n",
       "3             Dark chocolate  Drinking Chocolate\n",
       "4              Oatmeal Scone              Bakery\n",
       "5         Jumbo Savory Scone              Bakery\n",
       "6    Chocolate Chip Biscotti              Bakery\n",
       "7            Ginger Biscotti              Bakery\n",
       "8        Chocolate Croissant              Bakery\n",
       "9          Hazelnut Biscotti              Bakery\n",
       "10           Cranberry Scone              Bakery\n",
       "11                 Croissant              Bakery\n",
       "12          Almond Croissant              Bakery\n",
       "13              Ginger Scone              Bakery\n",
       "14           Chocolate syrup            Flavours\n",
       "15            Hazelnut syrup            Flavours\n",
       "16              Carmel syrup            Flavours\n",
       "17  Sugar Free Vanilla syrup            Flavours\n",
       "18            Dark chocolate  Packaged Chocolate"
      ]
     },
     "execution_count": 158,
     "metadata": {},
     "output_type": "execute_result"
    }
   ],
   "source": [
    "# finding the product category with the corrosponding product\n",
    "df[['product','product_category']].drop_duplicates().reset_index(drop=True)"
   ]
  },
  {
   "cell_type": "markdown",
   "metadata": {},
   "source": [
    "## Clean Transnation"
   ]
  },
  {
   "cell_type": "markdown",
   "metadata": {},
   "source": [
    "Now some trasnactions id goes to multiple customer because here is only one product per row, so \n",
    "<br>if they are sitting together and pay as a group then the same id can go to multiple customers\n",
    "<br> or if a person order multiple items\n",
    "<br> which can confuse recommandation engine so we concatinate transationid and customer id to make a new transation number."
   ]
  },
  {
   "cell_type": "code",
   "execution_count": 159,
   "metadata": {},
   "outputs": [
    {
     "data": {
      "text/html": [
       "<div>\n",
       "<style scoped>\n",
       "    .dataframe tbody tr th:only-of-type {\n",
       "        vertical-align: middle;\n",
       "    }\n",
       "\n",
       "    .dataframe tbody tr th {\n",
       "        vertical-align: top;\n",
       "    }\n",
       "\n",
       "    .dataframe thead th {\n",
       "        text-align: right;\n",
       "    }\n",
       "</style>\n",
       "<table border=\"1\" class=\"dataframe\">\n",
       "  <thead>\n",
       "    <tr style=\"text-align: right;\">\n",
       "      <th></th>\n",
       "      <th>transaction_id</th>\n",
       "      <th>transaction_date</th>\n",
       "      <th>sales_outlet_id</th>\n",
       "      <th>customer_id</th>\n",
       "      <th>product_id</th>\n",
       "      <th>quantity</th>\n",
       "      <th>product_category</th>\n",
       "      <th>product</th>\n",
       "      <th>transaction</th>\n",
       "    </tr>\n",
       "  </thead>\n",
       "  <tbody>\n",
       "    <tr>\n",
       "      <th>16</th>\n",
       "      <td>108</td>\n",
       "      <td>2019-04-01</td>\n",
       "      <td>3</td>\n",
       "      <td>65</td>\n",
       "      <td>40</td>\n",
       "      <td>1</td>\n",
       "      <td>Coffee</td>\n",
       "      <td>Cappuccino</td>\n",
       "      <td>108_65</td>\n",
       "    </tr>\n",
       "    <tr>\n",
       "      <th>17</th>\n",
       "      <td>112</td>\n",
       "      <td>2019-04-01</td>\n",
       "      <td>3</td>\n",
       "      <td>90</td>\n",
       "      <td>37</td>\n",
       "      <td>2</td>\n",
       "      <td>Coffee</td>\n",
       "      <td>Espresso shot</td>\n",
       "      <td>112_90</td>\n",
       "    </tr>\n",
       "  </tbody>\n",
       "</table>\n",
       "</div>"
      ],
      "text/plain": [
       "    transaction_id transaction_date  sales_outlet_id  customer_id  product_id  \\\n",
       "16             108       2019-04-01                3           65          40   \n",
       "17             112       2019-04-01                3           90          37   \n",
       "\n",
       "    quantity product_category        product transaction  \n",
       "16         1           Coffee     Cappuccino      108_65  \n",
       "17         2           Coffee  Espresso shot      112_90  "
      ]
     },
     "execution_count": 159,
     "metadata": {},
     "output_type": "execute_result"
    }
   ],
   "source": [
    "df['transaction'] = df['transaction_id'].astype('str') + '_' + df['customer_id'].astype('str')\n",
    "df.head(2)"
   ]
  },
  {
   "cell_type": "markdown",
   "metadata": {},
   "source": [
    "### removing the customers which only bought ones and never return back because we don't need them for recommandation engine"
   ]
  },
  {
   "cell_type": "code",
   "execution_count": 160,
   "metadata": {},
   "outputs": [
    {
     "data": {
      "text/html": [
       "<div>\n",
       "<style scoped>\n",
       "    .dataframe tbody tr th:only-of-type {\n",
       "        vertical-align: middle;\n",
       "    }\n",
       "\n",
       "    .dataframe tbody tr th {\n",
       "        vertical-align: top;\n",
       "    }\n",
       "\n",
       "    .dataframe thead th {\n",
       "        text-align: right;\n",
       "    }\n",
       "</style>\n",
       "<table border=\"1\" class=\"dataframe\">\n",
       "  <thead>\n",
       "    <tr style=\"text-align: right;\">\n",
       "      <th></th>\n",
       "      <th>transaction</th>\n",
       "      <th>count</th>\n",
       "    </tr>\n",
       "  </thead>\n",
       "  <tbody>\n",
       "    <tr>\n",
       "      <th>0</th>\n",
       "      <td>209_0</td>\n",
       "      <td>31</td>\n",
       "    </tr>\n",
       "    <tr>\n",
       "      <th>1</th>\n",
       "      <td>206_0</td>\n",
       "      <td>30</td>\n",
       "    </tr>\n",
       "    <tr>\n",
       "      <th>2</th>\n",
       "      <td>204_0</td>\n",
       "      <td>27</td>\n",
       "    </tr>\n",
       "    <tr>\n",
       "      <th>3</th>\n",
       "      <td>208_0</td>\n",
       "      <td>25</td>\n",
       "    </tr>\n",
       "    <tr>\n",
       "      <th>4</th>\n",
       "      <td>203_0</td>\n",
       "      <td>24</td>\n",
       "    </tr>\n",
       "  </tbody>\n",
       "</table>\n",
       "</div>"
      ],
      "text/plain": [
       "  transaction  count\n",
       "0       209_0     31\n",
       "1       206_0     30\n",
       "2       204_0     27\n",
       "3       208_0     25\n",
       "4       203_0     24"
      ]
     },
     "execution_count": 160,
     "metadata": {},
     "output_type": "execute_result"
    }
   ],
   "source": [
    "num_of_itemes_for_transaction = df['transaction'].value_counts().reset_index()\n",
    "num_of_itemes_for_transaction.head()"
   ]
  },
  {
   "cell_type": "code",
   "execution_count": 161,
   "metadata": {},
   "outputs": [
    {
     "data": {
      "text/html": [
       "<div>\n",
       "<style scoped>\n",
       "    .dataframe tbody tr th:only-of-type {\n",
       "        vertical-align: middle;\n",
       "    }\n",
       "\n",
       "    .dataframe tbody tr th {\n",
       "        vertical-align: top;\n",
       "    }\n",
       "\n",
       "    .dataframe thead th {\n",
       "        text-align: right;\n",
       "    }\n",
       "</style>\n",
       "<table border=\"1\" class=\"dataframe\">\n",
       "  <thead>\n",
       "    <tr style=\"text-align: right;\">\n",
       "      <th></th>\n",
       "      <th>transaction_id</th>\n",
       "      <th>transaction_date</th>\n",
       "      <th>sales_outlet_id</th>\n",
       "      <th>customer_id</th>\n",
       "      <th>product_id</th>\n",
       "      <th>quantity</th>\n",
       "      <th>product_category</th>\n",
       "      <th>product</th>\n",
       "      <th>transaction</th>\n",
       "    </tr>\n",
       "  </thead>\n",
       "  <tbody>\n",
       "    <tr>\n",
       "      <th>34</th>\n",
       "      <td>199</td>\n",
       "      <td>2019-04-01</td>\n",
       "      <td>3</td>\n",
       "      <td>112</td>\n",
       "      <td>41</td>\n",
       "      <td>2</td>\n",
       "      <td>Coffee</td>\n",
       "      <td>Cappuccino</td>\n",
       "      <td>199_112</td>\n",
       "    </tr>\n",
       "    <tr>\n",
       "      <th>35</th>\n",
       "      <td>199</td>\n",
       "      <td>2019-04-01</td>\n",
       "      <td>3</td>\n",
       "      <td>112</td>\n",
       "      <td>79</td>\n",
       "      <td>1</td>\n",
       "      <td>Bakery</td>\n",
       "      <td>Jumbo Savory Scone</td>\n",
       "      <td>199_112</td>\n",
       "    </tr>\n",
       "  </tbody>\n",
       "</table>\n",
       "</div>"
      ],
      "text/plain": [
       "    transaction_id transaction_date  sales_outlet_id  customer_id  product_id  \\\n",
       "34             199       2019-04-01                3          112          41   \n",
       "35             199       2019-04-01                3          112          79   \n",
       "\n",
       "    quantity product_category             product transaction  \n",
       "34         2           Coffee          Cappuccino     199_112  \n",
       "35         1           Bakery  Jumbo Savory Scone     199_112  "
      ]
     },
     "execution_count": 161,
     "metadata": {},
     "output_type": "execute_result"
    }
   ],
   "source": [
    "# filter tensactions with more than 2 items\n",
    "valid_transactions = num_of_itemes_for_transaction[num_of_itemes_for_transaction['count'] > 1]['transaction'].to_list()\n",
    "df = df[df['transaction'].isin(valid_transactions)]\n",
    "df.head(2)"
   ]
  },
  {
   "cell_type": "code",
   "execution_count": 162,
   "metadata": {},
   "outputs": [
    {
     "data": {
      "text/plain": [
       "(10189, 9)"
      ]
     },
     "execution_count": 162,
     "metadata": {},
     "output_type": "execute_result"
    }
   ],
   "source": [
    "df.shape"
   ]
  },
  {
   "cell_type": "markdown",
   "metadata": {},
   "source": [
    "## Popular Trends"
   ]
  },
  {
   "cell_type": "code",
   "execution_count": 163,
   "metadata": {},
   "outputs": [
    {
     "data": {
      "text/plain": [
       "product_category\n",
       "Bakery                3800\n",
       "Coffee                3174\n",
       "Flavours              2246\n",
       "Drinking Chocolate     947\n",
       "Packaged Chocolate      22\n",
       "Name: count, dtype: int64"
      ]
     },
     "execution_count": 163,
     "metadata": {},
     "output_type": "execute_result"
    }
   ],
   "source": [
    "df['product_category'].value_counts()"
   ]
  },
  {
   "cell_type": "code",
   "execution_count": 164,
   "metadata": {},
   "outputs": [
    {
     "data": {
      "text/plain": [
       "product\n",
       "Cappuccino                  1290\n",
       "Latte                       1256\n",
       "Dark chocolate               969\n",
       "Chocolate Croissant          636\n",
       "Espresso shot                628\n",
       "Sugar Free Vanilla syrup     605\n",
       "Chocolate syrup              568\n",
       "Carmel syrup                 561\n",
       "Hazelnut syrup               512\n",
       "Ginger Scone                 417\n",
       "Jumbo Savory Scone           357\n",
       "Croissant                    355\n",
       "Chocolate Chip Biscotti      352\n",
       "Cranberry Scone              350\n",
       "Almond Croissant             347\n",
       "Hazelnut Biscotti            338\n",
       "Oatmeal Scone                334\n",
       "Ginger Biscotti              314\n",
       "Name: count, dtype: int64"
      ]
     },
     "execution_count": 164,
     "metadata": {},
     "output_type": "execute_result"
    }
   ],
   "source": [
    "df[\"product\"].value_counts()"
   ]
  },
  {
   "cell_type": "code",
   "execution_count": null,
   "metadata": {},
   "outputs": [],
   "source": []
  }
 ],
 "metadata": {
  "kernelspec": {
   "display_name": "faiss_env",
   "language": "python",
   "name": "python3"
  },
  "language_info": {
   "codemirror_mode": {
    "name": "ipython",
    "version": 3
   },
   "file_extension": ".py",
   "mimetype": "text/x-python",
   "name": "python",
   "nbconvert_exporter": "python",
   "pygments_lexer": "ipython3",
   "version": "3.9.21"
  }
 },
 "nbformat": 4,
 "nbformat_minor": 2
}
