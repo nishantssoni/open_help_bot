{
 "cells": [
  {
   "cell_type": "code",
   "execution_count": 1,
   "metadata": {},
   "outputs": [],
   "source": [
    "import pandas as pd\n",
    "from mlxtend.frequent_patterns import apriori, association_rules"
   ]
  },
  {
   "cell_type": "markdown",
   "metadata": {},
   "source": [
    "## Read dataset"
   ]
  },
  {
   "cell_type": "code",
   "execution_count": 11,
   "metadata": {},
   "outputs": [],
   "source": [
    "sales_receipt_df = pd.read_csv('./datasets/201904 sales reciepts.csv')\n",
    "products_df = pd.read_csv('./datasets/product.csv')"
   ]
  },
  {
   "cell_type": "code",
   "execution_count": 12,
   "metadata": {},
   "outputs": [
    {
     "data": {
      "text/html": [
       "<div>\n",
       "<style scoped>\n",
       "    .dataframe tbody tr th:only-of-type {\n",
       "        vertical-align: middle;\n",
       "    }\n",
       "\n",
       "    .dataframe tbody tr th {\n",
       "        vertical-align: top;\n",
       "    }\n",
       "\n",
       "    .dataframe thead th {\n",
       "        text-align: right;\n",
       "    }\n",
       "</style>\n",
       "<table border=\"1\" class=\"dataframe\">\n",
       "  <thead>\n",
       "    <tr style=\"text-align: right;\">\n",
       "      <th></th>\n",
       "      <th>transaction_id</th>\n",
       "      <th>transaction_date</th>\n",
       "      <th>transaction_time</th>\n",
       "      <th>sales_outlet_id</th>\n",
       "      <th>staff_id</th>\n",
       "      <th>customer_id</th>\n",
       "      <th>instore_yn</th>\n",
       "      <th>order</th>\n",
       "      <th>line_item_id</th>\n",
       "      <th>product_id</th>\n",
       "      <th>quantity</th>\n",
       "      <th>line_item_amount</th>\n",
       "      <th>unit_price</th>\n",
       "      <th>promo_item_yn</th>\n",
       "    </tr>\n",
       "  </thead>\n",
       "  <tbody>\n",
       "    <tr>\n",
       "      <th>0</th>\n",
       "      <td>7</td>\n",
       "      <td>2019-04-01</td>\n",
       "      <td>12:04:43</td>\n",
       "      <td>3</td>\n",
       "      <td>12</td>\n",
       "      <td>558</td>\n",
       "      <td>N</td>\n",
       "      <td>1</td>\n",
       "      <td>1</td>\n",
       "      <td>52</td>\n",
       "      <td>1</td>\n",
       "      <td>2.5</td>\n",
       "      <td>2.5</td>\n",
       "      <td>N</td>\n",
       "    </tr>\n",
       "    <tr>\n",
       "      <th>1</th>\n",
       "      <td>11</td>\n",
       "      <td>2019-04-01</td>\n",
       "      <td>15:54:39</td>\n",
       "      <td>3</td>\n",
       "      <td>17</td>\n",
       "      <td>781</td>\n",
       "      <td>N</td>\n",
       "      <td>1</td>\n",
       "      <td>1</td>\n",
       "      <td>27</td>\n",
       "      <td>2</td>\n",
       "      <td>7.0</td>\n",
       "      <td>3.5</td>\n",
       "      <td>N</td>\n",
       "    </tr>\n",
       "  </tbody>\n",
       "</table>\n",
       "</div>"
      ],
      "text/plain": [
       "   transaction_id transaction_date transaction_time  sales_outlet_id  \\\n",
       "0               7       2019-04-01         12:04:43                3   \n",
       "1              11       2019-04-01         15:54:39                3   \n",
       "\n",
       "   staff_id  customer_id instore_yn  order  line_item_id  product_id  \\\n",
       "0        12          558          N      1             1          52   \n",
       "1        17          781          N      1             1          27   \n",
       "\n",
       "   quantity  line_item_amount  unit_price promo_item_yn  \n",
       "0         1               2.5         2.5             N  \n",
       "1         2               7.0         3.5             N  "
      ]
     },
     "execution_count": 12,
     "metadata": {},
     "output_type": "execute_result"
    }
   ],
   "source": [
    "sales_receipt_df.head(2)"
   ]
  },
  {
   "cell_type": "code",
   "execution_count": 13,
   "metadata": {},
   "outputs": [
    {
     "data": {
      "text/html": [
       "<div>\n",
       "<style scoped>\n",
       "    .dataframe tbody tr th:only-of-type {\n",
       "        vertical-align: middle;\n",
       "    }\n",
       "\n",
       "    .dataframe tbody tr th {\n",
       "        vertical-align: top;\n",
       "    }\n",
       "\n",
       "    .dataframe thead th {\n",
       "        text-align: right;\n",
       "    }\n",
       "</style>\n",
       "<table border=\"1\" class=\"dataframe\">\n",
       "  <thead>\n",
       "    <tr style=\"text-align: right;\">\n",
       "      <th></th>\n",
       "      <th>product_id</th>\n",
       "      <th>product_group</th>\n",
       "      <th>product_category</th>\n",
       "      <th>product_type</th>\n",
       "      <th>product</th>\n",
       "      <th>product_description</th>\n",
       "      <th>unit_of_measure</th>\n",
       "      <th>current_wholesale_price</th>\n",
       "      <th>current_retail_price</th>\n",
       "      <th>tax_exempt_yn</th>\n",
       "      <th>promo_yn</th>\n",
       "      <th>new_product_yn</th>\n",
       "    </tr>\n",
       "  </thead>\n",
       "  <tbody>\n",
       "    <tr>\n",
       "      <th>0</th>\n",
       "      <td>1</td>\n",
       "      <td>Whole Bean/Teas</td>\n",
       "      <td>Coffee beans</td>\n",
       "      <td>Organic Beans</td>\n",
       "      <td>Brazilian - Organic</td>\n",
       "      <td>It's like Carnival in a cup. Clean and smooth.</td>\n",
       "      <td>12 oz</td>\n",
       "      <td>14.4</td>\n",
       "      <td>$18.00</td>\n",
       "      <td>Y</td>\n",
       "      <td>N</td>\n",
       "      <td>N</td>\n",
       "    </tr>\n",
       "    <tr>\n",
       "      <th>1</th>\n",
       "      <td>2</td>\n",
       "      <td>Whole Bean/Teas</td>\n",
       "      <td>Coffee beans</td>\n",
       "      <td>House blend Beans</td>\n",
       "      <td>Our Old Time Diner Blend</td>\n",
       "      <td>Out packed blend of beans that is reminiscent ...</td>\n",
       "      <td>12 oz</td>\n",
       "      <td>14.4</td>\n",
       "      <td>$18.00</td>\n",
       "      <td>Y</td>\n",
       "      <td>N</td>\n",
       "      <td>N</td>\n",
       "    </tr>\n",
       "  </tbody>\n",
       "</table>\n",
       "</div>"
      ],
      "text/plain": [
       "   product_id    product_group product_category       product_type  \\\n",
       "0           1  Whole Bean/Teas     Coffee beans      Organic Beans   \n",
       "1           2  Whole Bean/Teas     Coffee beans  House blend Beans   \n",
       "\n",
       "                    product  \\\n",
       "0       Brazilian - Organic   \n",
       "1  Our Old Time Diner Blend   \n",
       "\n",
       "                                 product_description unit_of_measure  \\\n",
       "0     It's like Carnival in a cup. Clean and smooth.           12 oz   \n",
       "1  Out packed blend of beans that is reminiscent ...           12 oz   \n",
       "\n",
       "   current_wholesale_price current_retail_price tax_exempt_yn promo_yn  \\\n",
       "0                     14.4              $18.00              Y        N   \n",
       "1                     14.4              $18.00              Y        N   \n",
       "\n",
       "  new_product_yn  \n",
       "0              N  \n",
       "1              N  "
      ]
     },
     "execution_count": 13,
     "metadata": {},
     "output_type": "execute_result"
    }
   ],
   "source": [
    "products_df.head(2)"
   ]
  },
  {
   "cell_type": "markdown",
   "metadata": {},
   "source": [
    "## Data Wrangling"
   ]
  },
  {
   "cell_type": "code",
   "execution_count": 14,
   "metadata": {},
   "outputs": [],
   "source": [
    "# filter out the relevent data\n",
    "sales_receipt_df = sales_receipt_df[['transaction_id','transaction_date','sales_outlet_id','customer_id','product_id','quantity']]\n",
    "products_df = products_df[['product_id','product_category','product']]"
   ]
  },
  {
   "cell_type": "code",
   "execution_count": 15,
   "metadata": {},
   "outputs": [
    {
     "data": {
      "text/html": [
       "<div>\n",
       "<style scoped>\n",
       "    .dataframe tbody tr th:only-of-type {\n",
       "        vertical-align: middle;\n",
       "    }\n",
       "\n",
       "    .dataframe tbody tr th {\n",
       "        vertical-align: top;\n",
       "    }\n",
       "\n",
       "    .dataframe thead th {\n",
       "        text-align: right;\n",
       "    }\n",
       "</style>\n",
       "<table border=\"1\" class=\"dataframe\">\n",
       "  <thead>\n",
       "    <tr style=\"text-align: right;\">\n",
       "      <th></th>\n",
       "      <th>transaction_id</th>\n",
       "      <th>transaction_date</th>\n",
       "      <th>sales_outlet_id</th>\n",
       "      <th>customer_id</th>\n",
       "      <th>product_id</th>\n",
       "      <th>quantity</th>\n",
       "      <th>product_category</th>\n",
       "      <th>product</th>\n",
       "    </tr>\n",
       "  </thead>\n",
       "  <tbody>\n",
       "    <tr>\n",
       "      <th>0</th>\n",
       "      <td>7</td>\n",
       "      <td>2019-04-01</td>\n",
       "      <td>3</td>\n",
       "      <td>558</td>\n",
       "      <td>52</td>\n",
       "      <td>1</td>\n",
       "      <td>Tea</td>\n",
       "      <td>Traditional Blend Chai Rg</td>\n",
       "    </tr>\n",
       "    <tr>\n",
       "      <th>1</th>\n",
       "      <td>11</td>\n",
       "      <td>2019-04-01</td>\n",
       "      <td>3</td>\n",
       "      <td>781</td>\n",
       "      <td>27</td>\n",
       "      <td>2</td>\n",
       "      <td>Coffee</td>\n",
       "      <td>Brazilian Lg</td>\n",
       "    </tr>\n",
       "  </tbody>\n",
       "</table>\n",
       "</div>"
      ],
      "text/plain": [
       "   transaction_id transaction_date  sales_outlet_id  customer_id  product_id  \\\n",
       "0               7       2019-04-01                3          558          52   \n",
       "1              11       2019-04-01                3          781          27   \n",
       "\n",
       "   quantity product_category                    product  \n",
       "0         1              Tea  Traditional Blend Chai Rg  \n",
       "1         2           Coffee               Brazilian Lg  "
      ]
     },
     "execution_count": 15,
     "metadata": {},
     "output_type": "execute_result"
    }
   ],
   "source": [
    "# merging the datasets\n",
    "df = pd.merge(sales_receipt_df, products_df, how='left', on='product_id')\n",
    "df.head(2)"
   ]
  },
  {
   "cell_type": "code",
   "execution_count": null,
   "metadata": {},
   "outputs": [],
   "source": []
  }
 ],
 "metadata": {
  "kernelspec": {
   "display_name": "faiss_env",
   "language": "python",
   "name": "python3"
  },
  "language_info": {
   "codemirror_mode": {
    "name": "ipython",
    "version": 3
   },
   "file_extension": ".py",
   "mimetype": "text/x-python",
   "name": "python",
   "nbconvert_exporter": "python",
   "pygments_lexer": "ipython3",
   "version": "3.9.21"
  }
 },
 "nbformat": 4,
 "nbformat_minor": 2
}
