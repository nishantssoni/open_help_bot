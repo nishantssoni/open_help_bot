{
 "cells": [
  {
   "cell_type": "markdown",
   "metadata": {},
   "source": [
    "## IMPORTS"
   ]
  },
  {
   "cell_type": "code",
   "execution_count": 1,
   "metadata": {},
   "outputs": [],
   "source": [
    "import pandas as pd\n",
    "import os\n",
    "# import firebase_admin\n",
    "# from firebase_admin import credentials, storage, db\n",
    "# import dotenv\n",
    "# dotenv.load_dotenv()"
   ]
  },
  {
   "cell_type": "markdown",
   "metadata": {},
   "source": [
    "## FIREBASE INIT"
   ]
  },
  {
   "cell_type": "code",
   "execution_count": null,
   "metadata": {},
   "outputs": [],
   "source": [
    "# service_account_info ={\n",
    "#     \"type\":os.getenv(\"FIREBASE_TYPE\"),\n",
    "#     \"project_id\":os.getenv(\"FIREBASE_PROJECT_ID\"),\n",
    "#     \"private_key_id\":os.getenv(\"FIREBASE_PRIVATE_KEY_ID\"),\n",
    "#     \"private_key\":os.getenv(\"FIREBASE_PRIVATE_KEY\"),\n",
    "#     \"client_email\":os.getenv(\"FIREBASE_CLIENT_EMAIL\"),\n",
    "#     \"client_id\":os.getenv(\"FIREBASE_CLIENT_ID\"),\n",
    "#     \"auth_uri\":os.getenv(\"FIREBASE_AUTH_URI\"),\n",
    "#     \"token_uri\":os.getenv(\"FIREBASE_TOKEN_URI\"),\n",
    "#     \"auth_provider_x509_cert_url\":os.getenv(\"FIREBASE_AUTH_PROVIDER_X509_CERT_URL\"),\n",
    "#     \"client_x509_cert_url\":os.getenv(\"FIREBASE_CLIENT_X509CERT_URL\"),\n",
    "#     \"universe_domain\":os.getenv(\"FIREBASE_UNIVERSE_DOMAIN\")\n",
    "# }"
   ]
  },
  {
   "cell_type": "code",
   "execution_count": null,
   "metadata": {},
   "outputs": [
    {
     "data": {
      "text/plain": [
       "<firebase_admin.App at 0x785a60ba2070>"
      ]
     },
     "execution_count": 4,
     "metadata": {},
     "output_type": "execute_result"
    }
   ],
   "source": [
    "# cred = credentials.Certificate(service_account_info)\n",
    "# firebase_admin.initialize_app(cred,{\n",
    "#     # 'storageBucket':'',\n",
    "#     'databaseURL':'https://coffeeshopapp-f96d7-default-rtdb.firebaseio.com/'\n",
    "# })"
   ]
  },
  {
   "cell_type": "markdown",
   "metadata": {},
   "source": [
    "## upload data to firebase"
   ]
  },
  {
   "cell_type": "code",
   "execution_count": null,
   "metadata": {},
   "outputs": [],
   "source": []
  },
  {
   "cell_type": "markdown",
   "metadata": {},
   "source": [
    "## use local storage insted of firebase"
   ]
  },
  {
   "cell_type": "code",
   "execution_count": 2,
   "metadata": {},
   "outputs": [],
   "source": [
    "image_folder_path = './products/images/'\n",
    "products_df = pd.read_json('products/products.jsonl', lines=True)"
   ]
  },
  {
   "cell_type": "code",
   "execution_count": 3,
   "metadata": {},
   "outputs": [
    {
     "data": {
      "text/html": [
       "<div>\n",
       "<style scoped>\n",
       "    .dataframe tbody tr th:only-of-type {\n",
       "        vertical-align: middle;\n",
       "    }\n",
       "\n",
       "    .dataframe tbody tr th {\n",
       "        vertical-align: top;\n",
       "    }\n",
       "\n",
       "    .dataframe thead th {\n",
       "        text-align: right;\n",
       "    }\n",
       "</style>\n",
       "<table border=\"1\" class=\"dataframe\">\n",
       "  <thead>\n",
       "    <tr style=\"text-align: right;\">\n",
       "      <th></th>\n",
       "      <th>name</th>\n",
       "      <th>category</th>\n",
       "      <th>description</th>\n",
       "      <th>ingredients</th>\n",
       "      <th>price</th>\n",
       "      <th>rating</th>\n",
       "      <th>image_path</th>\n",
       "    </tr>\n",
       "  </thead>\n",
       "  <tbody>\n",
       "    <tr>\n",
       "      <th>0</th>\n",
       "      <td>Cappuccino</td>\n",
       "      <td>Coffee</td>\n",
       "      <td>A rich and creamy cappuccino made with freshly...</td>\n",
       "      <td>[Espresso, Steamed Milk, Milk Foam]</td>\n",
       "      <td>4.50</td>\n",
       "      <td>4.7</td>\n",
       "      <td>cappuccino.jpg</td>\n",
       "    </tr>\n",
       "    <tr>\n",
       "      <th>1</th>\n",
       "      <td>Jumbo Savory Scone</td>\n",
       "      <td>Bakery</td>\n",
       "      <td>Deliciously flaky and buttery, this jumbo savo...</td>\n",
       "      <td>[Flour, Butter, Cheese, Herbs, Baking Powder, ...</td>\n",
       "      <td>3.25</td>\n",
       "      <td>4.3</td>\n",
       "      <td>SavoryScone.webp</td>\n",
       "    </tr>\n",
       "  </tbody>\n",
       "</table>\n",
       "</div>"
      ],
      "text/plain": [
       "                 name category  \\\n",
       "0          Cappuccino   Coffee   \n",
       "1  Jumbo Savory Scone   Bakery   \n",
       "\n",
       "                                         description  \\\n",
       "0  A rich and creamy cappuccino made with freshly...   \n",
       "1  Deliciously flaky and buttery, this jumbo savo...   \n",
       "\n",
       "                                         ingredients  price  rating  \\\n",
       "0                [Espresso, Steamed Milk, Milk Foam]   4.50     4.7   \n",
       "1  [Flour, Butter, Cheese, Herbs, Baking Powder, ...   3.25     4.3   \n",
       "\n",
       "         image_path  \n",
       "0    cappuccino.jpg  \n",
       "1  SavoryScone.webp  "
      ]
     },
     "execution_count": 3,
     "metadata": {},
     "output_type": "execute_result"
    }
   ],
   "source": [
    "products_df.head(2)"
   ]
  },
  {
   "cell_type": "code",
   "execution_count": 8,
   "metadata": {},
   "outputs": [],
   "source": [
    "# get url from products/image folder when i give the image name from local storage\n",
    "def get_image_url(image_name):\n",
    "    image_path = os.path.join(image_folder_path, image_name)\n",
    "    return image_path"
   ]
  },
  {
   "cell_type": "code",
   "execution_count": 13,
   "metadata": {},
   "outputs": [
    {
     "name": "stdout",
     "output_type": "stream",
     "text": [
      "./products/images/cappuccino.jpg\n",
      "./products/images/SavoryScone.webp\n",
      "./products/images/Latte.jpg\n",
      "./products/images/chocolat_biscotti.jpg\n",
      "./products/images/Espresso_shot.webp\n",
      "./products/images/Hazelnut_Biscotti.jpg\n",
      "./products/images/Chocolate_Croissant.jpg\n",
      "./products/images/Dark_chocolate.jpg\n",
      "./products/images/Cranberry_Scone.jpg\n",
      "./products/images/Croissant.jpg\n",
      "./products/images/almond_croissant.jpg\n",
      "./products/images/Ginger_Biscotti.webp\n",
      "./products/images/oatmeal_scones.jpg\n",
      "./products/images/Ginger_Scone.webp\n",
      "./products/images/Chocolate_syrup.jpg\n",
      "./products/images/Hazelnut_syrup.webp\n",
      "./products/images/caramel_syrup.jpg\n",
      "./products/images/Vanilla_syrup.jpg\n"
     ]
    }
   ],
   "source": [
    "# printing image url\n",
    "for index, row in products_df.iterrows():\n",
    "    image_name = row['image_path']\n",
    "    image_url = get_image_url(image_name)\n",
    "    print(image_url)"
   ]
  }
 ],
 "metadata": {
  "kernelspec": {
   "display_name": "faiss_env",
   "language": "python",
   "name": "python3"
  },
  "language_info": {
   "codemirror_mode": {
    "name": "ipython",
    "version": 3
   },
   "file_extension": ".py",
   "mimetype": "text/x-python",
   "name": "python",
   "nbconvert_exporter": "python",
   "pygments_lexer": "ipython3",
   "version": "3.9.21"
  }
 },
 "nbformat": 4,
 "nbformat_minor": 2
}
