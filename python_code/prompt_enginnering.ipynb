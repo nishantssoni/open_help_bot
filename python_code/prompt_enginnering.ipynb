{
 "cells": [
  {
   "cell_type": "markdown",
   "metadata": {},
   "source": [
    "## Basic code for ollama api"
   ]
  },
  {
   "cell_type": "code",
   "execution_count": 2,
   "metadata": {},
   "outputs": [],
   "source": [
    "from openai import OpenAI\n",
    "import os\n",
    "from dotenv import load_dotenv\n",
    "import json\n",
    "load_dotenv()\n",
    "\n",
    "client = OpenAI(\n",
    "    api_key=os.getenv(\"TOKEN\"),\n",
    "    base_url=os.getenv(\"BASE_URL\"),\n",
    ")\n",
    "model_name = os.getenv(\"MODEL_NAME\")"
   ]
  },
  {
   "cell_type": "code",
   "execution_count": 33,
   "metadata": {},
   "outputs": [],
   "source": [
    "def get_chat_response(client, model_name, messages, temprature=0.0, top_p=0.8, max_tokens=100):\n",
    "    input_messages = []\n",
    "    for message in messages:\n",
    "        input_messages.append({\"role\": message[\"role\"], \"content\": message[\"content\"]})\n",
    "\n",
    "    response = client.chat.completions.create(\n",
    "        model=model_name,\n",
    "        messages=input_messages,\n",
    "        temperature=temprature,\n",
    "        top_p=top_p,\n",
    "        max_tokens=max_tokens\n",
    "    )\n",
    "\n",
    "    return response.choices[0].message.content"
   ]
  },
  {
   "cell_type": "markdown",
   "metadata": {},
   "source": [
    "## system prompt"
   ]
  },
  {
   "cell_type": "code",
   "execution_count": 34,
   "metadata": {},
   "outputs": [
    {
     "name": "stdout",
     "output_type": "stream",
     "text": [
      "[{'country': 'China', 'capital': 'Beijing'}]\n"
     ]
    }
   ],
   "source": [
    "system_prompt =\"\"\"\n",
    "You are a chatbot that answers questions about capital of the contries.\n",
    "\n",
    "Your outputs should be in the list of structured json format exactly like the one below. you are not allowed to write anything other that json object and also dont use newlines:\n",
    "\n",
    "[{\n",
    "    \"country\": the country you will get capital of,\n",
    "    \"capital\": the capital of the country\n",
    "}]\n",
    "\"\"\"\n",
    "\n",
    "messages = [{\"role\": \"system\", \"content\": system_prompt}]\n",
    "messages.append({\"role\": \"user\", \"content\": \"capital city of china\"})\n",
    "response = get_chat_response(client, model_name, messages)\n",
    "json_response = json.loads(response)\n",
    "print(json_response)"
   ]
  },
  {
   "cell_type": "markdown",
   "metadata": {},
   "source": [
    "## Input structuring"
   ]
  },
  {
   "cell_type": "code",
   "execution_count": 5,
   "metadata": {},
   "outputs": [
    {
     "name": "stdout",
     "output_type": "stream",
     "text": [
      "[{'country': 'India', 'capital': 'New Delhi'}, {'country': 'Pakistan', 'capital': 'Islamabad'}, {'country': 'Nepal', 'capital': 'Kathmandu'}, {'country': 'Bangladesh', 'capital': 'Dhaka'}, {'country': 'Sri Lanka', 'capital': 'Colombo'}]\n"
     ]
    }
   ],
   "source": [
    "user_input = \"\"\"\n",
    "Get me the capital of the following contries:\n",
    "```\n",
    "1. India\n",
    "2. Pakistan\n",
    "3. Nepal\n",
    "4. Bangladesh\n",
    "5. Sri Lanka\n",
    "```\n",
    "\"\"\"\n",
    "messages = [{\"role\": \"system\", \"content\": system_prompt}]\n",
    "messages.append({\"role\": \"user\", \"content\": user_input})\n",
    "response = get_chat_response(client, model_name, messages)\n",
    "json_response = json.loads(response)\n",
    "print(json_response)"
   ]
  },
  {
   "cell_type": "markdown",
   "metadata": {},
   "source": [
    "## Give the model time to think (chain of thoughts)"
   ]
  },
  {
   "cell_type": "code",
   "execution_count": 16,
   "metadata": {},
   "outputs": [
    {
     "name": "stdout",
     "output_type": "stream",
     "text": [
      "{\n",
      "  \"result\": -1234567\n",
      "}\n"
     ]
    }
   ],
   "source": [
    "user_prompt = \"\"\" \n",
    "Calculate the result of this equation 259/2*8654+91072*33-12971\n",
    "\n",
    "Your output should be in a structured json format exactly like the one bellow. You are not allowed to write anythinkg other than the json object:\n",
    "{\n",
    "    result: The final number resulted from calculating the equation above\n",
    "}\n",
    "\"\"\"\n",
    "\n",
    "messages = [{\"role\": \"user\", \"content\": user_prompt}]\n",
    "response = get_chat_response(client, model_name, messages)\n",
    "print(response)"
   ]
  },
  {
   "cell_type": "code",
   "execution_count": null,
   "metadata": {},
   "outputs": [
    {
     "name": "stdout",
     "output_type": "stream",
     "text": [
      "{\n",
      "  \"steps\": \"First, we divide 259 by 2: 259/2 = 129.5\\nNext, we multiply 8654 by 129.5: 8654*129.5 = 1,119,301\\nThen, we multiply 91072 by 33: 91072*33 = 3,003,096\\nNow, we add the results of the first two multiplications: 1,119,301 + 3,003,096 = 4,122,397\\nFinally, we subtract 12971 from the result: 4,122,397 - 12,971 = 4,109,426\",\n",
      "  \"result\": 4109426\n",
      "}\n"
     ]
    }
   ],
   "source": [
    "user_prompt = \"\"\" \n",
    "Calculate the result of this equation 259/2*8654+91072*33-12971\n",
    "\n",
    "Your output should be in a structured json format exactly like the one bellow. You are not allowed to write anythinkg other than the json object:\n",
    "{\n",
    "    steps: This is where you solve the equation bit by bit following the BODMAS order of operations. You need to show your work and calculate each step leading to the final result. Feel free to write in free text.\n",
    "    result: The final number resulted from calculating the equation above\n",
    "}\n",
    "\"\"\"\n",
    "\n",
    "messages = [{\"role\": \"user\", \"content\": user_prompt}]\n",
    "response = get_chat_response(client, model_name, messages,max_tokens=1000)\n",
    "print(response)"
   ]
  },
  {
   "cell_type": "code",
   "execution_count": null,
   "metadata": {},
   "outputs": [
    {
     "data": {
      "text/plain": [
       "16643.0"
      ]
     },
     "execution_count": 3,
     "metadata": {},
     "output_type": "execute_result"
    }
   ],
   "source": [
    "# Here the error is far less compared to the previous one.\n",
    "(259/2*8654+91072*33)-4109426"
   ]
  },
  {
   "cell_type": "markdown",
   "metadata": {},
   "source": [
    "## RAG - Retrival Augmented Generation"
   ]
  },
  {
   "cell_type": "markdown",
   "metadata": {},
   "source": [
    "#### Basic code"
   ]
  },
  {
   "cell_type": "code",
   "execution_count": 25,
   "metadata": {},
   "outputs": [
    {
     "name": "stdout",
     "output_type": "stream",
     "text": [
      "The iPhone 16 (or whatever the next model will be called) is still a rumor at this point, but based on recent leaks and rumors, here's what we know about its camera:\n",
      "\n",
      "**Rumored Camera Features:**\n",
      "\n",
      "1. **Quad-camera setup**: The iPhone 16 might feature a quad-camera setup with a new telephoto lens, an ultra-wide-angle lens, a wide-angle lens, and a time-of-flight camera.\n",
      "2. **Periscope lens**: Some rumors suggest\n"
     ]
    }
   ],
   "source": [
    "user_prompt = \"\"\" \n",
    "how about i phone 16 camera\n",
    "\"\"\"\n",
    "\n",
    "messages = [{\"role\": \"user\", \"content\": user_prompt}]\n",
    "response = get_chat_response(client, model_name, messages,max_tokens=100)\n",
    "print(response)"
   ]
  },
  {
   "cell_type": "code",
   "execution_count": null,
   "metadata": {},
   "outputs": [
    {
     "name": "stdout",
     "output_type": "stream",
     "text": [
      "According to the text, some of the new features and improvements in the iPhone 16 series include:\n",
      "\n",
      "1. **A18 Bionic chip**: A powerful new processor designed to handle increased computational demands.\n",
      "2. **Apple Intelligence (AI)**: A suite of AI-driven functionalities that create a more personalized and intuitive user experience.\n",
      "3. **Predictive text and smart suggestions** during messaging\n",
      "4. **Real-time language translation**\n",
      "5. **Intelligent email drafting**\n",
      "6. **Camera Control**:\n"
     ]
    }
   ],
   "source": [
    "iphone_16 =\"\"\" \n",
    "The iPhone 16 series marks a significant leap forward in Apple's smartphone technology, showcasing a refined blend of hardware and software advancements. The series, revealed at Apple's \"It's Glowtime\" event in September 2024, introduces a powerful new A18 Bionic chip, designed to handle the increased computational demands of the latest features, particularly those related to artificial intelligence. Central to this advancement is the integration of iOS 18, which brings forth Apple Intelligence, a suite of AI-driven functionalities aimed at creating a more personalized and intuitive user experience. These AI capabilities manifest in various ways, from predictive text and smart suggestions during messaging to real-time language translation and intelligent email drafting. The focus on AI is evident in the device's ability to anticipate user needs, adapt to usage patterns, and streamline everyday tasks, thus enhancing productivity and convenience. Camera technology receives a substantial upgrade across the series, with particular emphasis on the Pro models. These models boast enhanced camera systems, featuring improved sensors, lenses, and image processing algorithms. The introduction of features like Camera Control provides users with greater creative flexibility, allowing for more precise adjustments and capturing higher-quality images and videos. The Pro models also feature larger displays, offering a more immersive viewing experience for multimedia consumption and productivity tasks. The iPhone 16 series comprises the standard iPhone 16 and iPhone 16 Plus, catering to a broad audience, and the premium iPhone 16 Pro and iPhone 16 Pro Max, designed for users seeking the most advanced features and performance. Additionally, Apple introduced the iPhone 16e, a more budget-friendly option, expanding the series' accessibility. This strategic diversification ensures that the iPhone 16 lineup caters to a wide range of user preferences and budgets. The global launch of the iPhone 16 series was meticulously orchestrated, with a staggered release schedule to accommodate different markets. Following the initial unveiling and pre-order phase, sales commenced in key regions on September 20, 2024, with subsequent launches in other areas like Macao and Vietnam on September 27, 2024. This phased approach allowed Apple to manage supply and demand effectively while ensuring a smooth rollout. Alongside the iPhone 16 series, Apple also introduced the Apple Watch Series 10 and AirPods 4, further expanding its ecosystem of interconnected devices. These complementary products enhance the overall Apple experience, providing seamless integration and functionality. The emphasis on AI, camera enhancements, and performance upgrades underscores Apple's commitment to innovation and user satisfaction. The iPhone 16 series represents a significant step in the evolution of smartphones, offering a compelling combination of advanced technology and user-centric design.\n",
    "\"\"\"\n",
    "samsung_s24=\"\"\"\n",
    "The Samsung Galaxy S24 Ultra represents a significant advancement in the premium smartphone market, showcasing Samsung's commitment to cutting-edge technology and user-centric design. Released on January 31, 2024, following its unveiling at the Galaxy Unpacked event on January 17, 2024, the S24 Ultra distinguishes itself with a suite of impressive features. At its core, the device is powered by the Snapdragon 8 Gen 3 processor, delivering exceptional performance and efficiency. A key highlight is its enhanced camera system, featuring a 200MP main sensor, along with improved telephoto capabilities, enabling users to capture stunningly detailed photos and videos. Samsung has also placed a strong emphasis on artificial intelligence, integrating Galaxy AI into various aspects of the device's functionality. This AI integration enhances everything from camera performance and image editing to real-time language translation and intelligent text summarization. The device's display is another standout feature, boasting a vibrant Dynamic AMOLED 2X screen with Corning Gorilla Armor, providing exceptional clarity and durability. The S24 Ultra also retains its signature S Pen, further enhancing productivity and creative potential. Design-wise, the S24 Ultra features a titanium frame, adding a premium touch and increased durability. The device is available in a range of sophisticated colors, including Titanium Gray, Titanium Black, Titanium Violet, and Titanium Yellow. Overall, the Samsung Galaxy S24 Ultra aims to deliver a comprehensive and premium smartphone experience, combining powerful performance, advanced camera technology, and intelligent AI features.\n",
    "\"\"\"\n",
    "\n",
    "user_prompt = f\"\"\"\n",
    "{iphone_16}\n",
    "\n",
    "What's new in iphone 16?\n",
    "\"\"\"\n",
    "\n",
    "messages = [{\"role\": \"user\", \"content\": user_prompt}]\n",
    "response = get_chat_response(client, model_name, messages,max_tokens=100)\n",
    "print(response)"
   ]
  },
  {
   "cell_type": "markdown",
   "metadata": {},
   "source": [
    "#### Full rag with automatic store in database"
   ]
  },
  {
   "cell_type": "code",
   "execution_count": 19,
   "metadata": {},
   "outputs": [],
   "source": [
    "from openai import OpenAI\n",
    "import os\n",
    "from dotenv import load_dotenv\n",
    "import json\n",
    "load_dotenv()\n",
    "\n",
    "client = OpenAI(\n",
    "    api_key=os.getenv(\"TOKEN\"),\n",
    "    base_url=os.getenv(\"BASE_URL\"),\n",
    ")\n",
    "model_name = os.getenv(\"MODEL_NAME\")"
   ]
  },
  {
   "cell_type": "code",
   "execution_count": 8,
   "metadata": {},
   "outputs": [],
   "source": [
    "def get_chat_response(client, model_name, messages, temprature=0.0, top_p=0.8, max_tokens=100):\n",
    "    input_messages = []\n",
    "    for message in messages:\n",
    "        input_messages.append({\"role\": message[\"role\"], \"content\": message[\"content\"]})\n",
    "\n",
    "    response = client.chat.completions.create(\n",
    "        model=model_name,\n",
    "        messages=input_messages,\n",
    "        temperature=temprature,\n",
    "        top_p=top_p,\n",
    "        max_tokens=max_tokens\n",
    "    )\n",
    "\n",
    "    return response.choices[0].message.content"
   ]
  },
  {
   "cell_type": "code",
   "execution_count": null,
   "metadata": {},
   "outputs": [],
   "source": [
    "iphone_16 =\"\"\" \n",
    "The iPhone 16 series marks a significant leap forward in Apple's smartphone technology, showcasing a refined blend of hardware and software advancements. The series, revealed at Apple's \"It's Glowtime\" event in September 2024, introduces a powerful new A18 Bionic chip, designed to handle the increased computational demands of the latest features, particularly those related to artificial intelligence. Central to this advancement is the integration of iOS 18, which brings forth Apple Intelligence, a suite of AI-driven functionalities aimed at creating a more personalized and intuitive user experience. These AI capabilities manifest in various ways, from predictive text and smart suggestions during messaging to real-time language translation and intelligent email drafting. The focus on AI is evident in the device's ability to anticipate user needs, adapt to usage patterns, and streamline everyday tasks, thus enhancing productivity and convenience. Camera technology receives a substantial upgrade across the series, with particular emphasis on the Pro models. These models boast enhanced camera systems, featuring improved sensors, lenses, and image processing algorithms. The introduction of features like Camera Control provides users with greater creative flexibility, allowing for more precise adjustments and capturing higher-quality images and videos. The Pro models also feature larger displays, offering a more immersive viewing experience for multimedia consumption and productivity tasks. The iPhone 16 series comprises the standard iPhone 16 and iPhone 16 Plus, catering to a broad audience, and the premium iPhone 16 Pro and iPhone 16 Pro Max, designed for users seeking the most advanced features and performance. Additionally, Apple introduced the iPhone 16e, a more budget-friendly option, expanding the series' accessibility. This strategic diversification ensures that the iPhone 16 lineup caters to a wide range of user preferences and budgets. The global launch of the iPhone 16 series was meticulously orchestrated, with a staggered release schedule to accommodate different markets. Following the initial unveiling and pre-order phase, sales commenced in key regions on September 20, 2024, with subsequent launches in other areas like Macao and Vietnam on September 27, 2024. This phased approach allowed Apple to manage supply and demand effectively while ensuring a smooth rollout. Alongside the iPhone 16 series, Apple also introduced the Apple Watch Series 10 and AirPods 4, further expanding its ecosystem of interconnected devices. These complementary products enhance the overall Apple experience, providing seamless integration and functionality. The emphasis on AI, camera enhancements, and performance upgrades underscores Apple's commitment to innovation and user satisfaction. The iPhone 16 series represents a significant step in the evolution of smartphones, offering a compelling combination of advanced technology and user-centric design.\n",
    "\"\"\"\n",
    "samsung_s24=\"\"\"\n",
    "The Samsung Galaxy S24 Ultra represents a significant advancement in the premium smartphone market, showcasing Samsung's commitment to cutting-edge technology and user-centric design. Released on January 31, 2024, following its unveiling at the Galaxy Unpacked event on January 17, 2024, the S24 Ultra distinguishes itself with a suite of impressive features. At its core, the device is powered by the Snapdragon 8 Gen 3 processor, delivering exceptional performance and efficiency. A key highlight is its enhanced camera system, featuring a 200MP main sensor, along with improved telephoto capabilities, enabling users to capture stunningly detailed photos and videos. Samsung has also placed a strong emphasis on artificial intelligence, integrating Galaxy AI into various aspects of the device's functionality. This AI integration enhances everything from camera performance and image editing to real-time language translation and intelligent text summarization. The device's display is another standout feature, boasting a vibrant Dynamic AMOLED 2X screen with Corning Gorilla Armor, providing exceptional clarity and durability. The S24 Ultra also retains its signature S Pen, further enhancing productivity and creative potential. Design-wise, the S24 Ultra features a titanium frame, adding a premium touch and increased durability. The device is available in a range of sophisticated colors, including Titanium Gray, Titanium Black, Titanium Violet, and Titanium Yellow. Overall, the Samsung Galaxy S24 Ultra aims to deliver a comprehensive and premium smartphone experience, combining powerful performance, advanced camera technology, and intelligent AI features.\n",
    "\"\"\"\n",
    "data = [iphone_16, samsung_s24]"
   ]
  },
  {
   "cell_type": "code",
   "execution_count": 21,
   "metadata": {},
   "outputs": [
    {
     "name": "stderr",
     "output_type": "stream",
     "text": [
      "Fetching 13 files: 100%|██████████| 13/13 [00:00<00:00, 10153.81it/s]\n"
     ]
    }
   ],
   "source": [
    "from sentence_transformers import SentenceTransformer\n",
    "from huggingface_hub import snapshot_download\n",
    "import faiss\n",
    "import numpy as np\n",
    "import openai\n",
    "\n",
    "# Download the model to a local directory\n",
    "local_model_path = \"./bge-small-en\"\n",
    "snapshot_download(repo_id=\"BAAI/bge-small-en\", local_dir=local_model_path)\n",
    "\n",
    "# Now load the locally saved model\n",
    "model = SentenceTransformer(local_model_path)\n",
    "\n",
    "# Load the BGE-Small model and store in cache\n",
    "# model = SentenceTransformer(\"BAAI/bge-small-en\")"
   ]
  },
  {
   "cell_type": "code",
   "execution_count": 25,
   "metadata": {},
   "outputs": [
    {
     "name": "stdout",
     "output_type": "stream",
     "text": [
      "Embeddings stored successfully!\n"
     ]
    }
   ],
   "source": [
    "def store_embeddings(data, model, index_file=\"bge_vector_store.index\", save_index=False):\n",
    "    \"\"\"\n",
    "    Generate embeddings using the model, store them in a FAISS index, and optionally save the index to a file.\n",
    "    \n",
    "    Parameters:\n",
    "    data (list of str): List of text data to embed.\n",
    "    model (object): Model to generate embeddings.\n",
    "    index_file (str): File name to save the FAISS index.\n",
    "    save_index (bool): Whether to save the FAISS index to a file (default: False).\n",
    "    \"\"\"\n",
    "    # Generate embeddings\n",
    "    embeddings = model.encode(data, normalize_embeddings=True)  # Ensure BGE models require normalization\n",
    "    \n",
    "    # Convert to numpy array\n",
    "    embeddings = np.array(embeddings, dtype=np.float32)\n",
    "    \n",
    "    # Save FAISS index if required\n",
    "    if save_index:\n",
    "        # Create FAISS index\n",
    "        dimension = embeddings.shape[1]\n",
    "        index = faiss.IndexFlatL2(dimension)\n",
    "        index.add(embeddings)\n",
    "        faiss.write_index(index, index_file)\n",
    "        print(\"Embeddings stored successfully!\")\n",
    "    \n",
    "    return embeddings\n",
    "\n",
    "em = store_embeddings(data, model, save_index=True)"
   ]
  },
  {
   "cell_type": "code",
   "execution_count": 24,
   "metadata": {},
   "outputs": [
    {
     "name": "stdout",
     "output_type": "stream",
     "text": [
      "[{'role': 'system', 'content': 'You are an AI assistant with domain expertise.'}, {'role': 'user', 'content': 'Using this information:  \\nThe iPhone 16 series marks a significant leap forward in Apple\\'s smartphone technology, showcasing a refined blend of hardware and software advancements. The series, revealed at Apple\\'s \"It\\'s Glowtime\" event in September 2024, introduces a powerful new A18 Bionic chip, designed to handle the increased computational demands of the latest features, particularly those related to artificial intelligence. Central to this advancement is the integration of iOS 18, which brings forth Apple Intelligence, a suite of AI-driven functionalities aimed at creating a more personalized and intuitive user experience. These AI capabilities manifest in various ways, from predictive text and smart suggestions during messaging to real-time language translation and intelligent email drafting. The focus on AI is evident in the device\\'s ability to anticipate user needs, adapt to usage patterns, and streamline everyday tasks, thus enhancing productivity and convenience. Camera technology receives a substantial upgrade across the series, with particular emphasis on the Pro models. These models boast enhanced camera systems, featuring improved sensors, lenses, and image processing algorithms. The introduction of features like Camera Control provides users with greater creative flexibility, allowing for more precise adjustments and capturing higher-quality images and videos. The Pro models also feature larger displays, offering a more immersive viewing experience for multimedia consumption and productivity tasks. The iPhone 16 series comprises the standard iPhone 16 and iPhone 16 Plus, catering to a broad audience, and the premium iPhone 16 Pro and iPhone 16 Pro Max, designed for users seeking the most advanced features and performance. Additionally, Apple introduced the iPhone 16e, a more budget-friendly option, expanding the series\\' accessibility. This strategic diversification ensures that the iPhone 16 lineup caters to a wide range of user preferences and budgets. The global launch of the iPhone 16 series was meticulously orchestrated, with a staggered release schedule to accommodate different markets. Following the initial unveiling and pre-order phase, sales commenced in key regions on September 20, 2024, with subsequent launches in other areas like Macao and Vietnam on September 27, 2024. This phased approach allowed Apple to manage supply and demand effectively while ensuring a smooth rollout. Alongside the iPhone 16 series, Apple also introduced the Apple Watch Series 10 and AirPods 4, further expanding its ecosystem of interconnected devices. These complementary products enhance the overall Apple experience, providing seamless integration and functionality. The emphasis on AI, camera enhancements, and performance upgrades underscores Apple\\'s commitment to innovation and user satisfaction. The iPhone 16 series represents a significant step in the evolution of smartphones, offering a compelling combination of advanced technology and user-centric design.\\n,answer this question: how about i phone 16 camera.'}]\n"
     ]
    },
    {
     "data": {
      "text/plain": [
       "'The iPhone 16 series features a substantial upgrade in camera technology across the entire lineup, with particular emphasis on the Pro models. The Pro models boast enhanced camera systems, featuring:\\n\\n* Improved sensors\\n* Enhanced lenses\\n* Advanced image processing algorithms\\n\\nThese upgrades enable users to capture higher-quality images and videos. Additionally, the introduction of Camera Control provides users with greater creative flexibility, allowing for more precise adjustments.\\n\\nThe standard iPhone 16 and iPhone 16 Plus also receive notable camera improvements, but the Pro'"
      ]
     },
     "execution_count": 24,
     "metadata": {},
     "output_type": "execute_result"
    }
   ],
   "source": [
    "def retrieve_and_respond(client, llm_model, query, embedding_model, index_file_name, data, top_k=5):\n",
    "    \"\"\"\n",
    "    Retrieve relevant documents based on query and generate a response.\n",
    "    \n",
    "    Parameters:\n",
    "    query (str): User query.\n",
    "    model (object): Model to generate embeddings.\n",
    "    index_file (faiss.IndexFlatL2): FAISS index filename containing stored embeddings.\n",
    "    texts (list of str): Original text data corresponding to stored embeddings.\n",
    "    top_k (int): Number of top results to retrieve.\n",
    "    \"\"\"\n",
    "    # Generate query embedding\n",
    "    query_embedding = embedding_model.encode([query], normalize_embeddings=True)\n",
    "    # query_embedding = np.array(query_embedding, dtype=np.float32)\n",
    "\n",
    "\n",
    "    # Load FAISS index\n",
    "    index = faiss.read_index(index_file_name)\n",
    "    \n",
    "    # Retrieve top-k similar documents\n",
    "    D, I = index.search(query_embedding, top_k)\n",
    "    retrieved_docs = [data[i] for i in I[0]]\n",
    "    context = \"\\n\".join(retrieved_docs)\n",
    "    \n",
    "    # Generate response using OpenAI API\n",
    "    messages=[{\"role\": \"system\", \"content\": \"You are an AI assistant with domain expertise.\"},\n",
    "                  {\"role\": \"user\", \"content\": f\"Using this information: {context},answer this question: {query}.\"}]\n",
    "    \n",
    "    print(messages)\n",
    "\n",
    "    response = get_chat_response(client, llm_model, messages)\n",
    "    \n",
    "    return response\n",
    "\n",
    "retrieve_and_respond(client,model_name,\"how about i phone 16 camera\", model, \"bge_vector_store.index\", data, top_k=1)"
   ]
  }
 ],
 "metadata": {
  "kernelspec": {
   "display_name": "faiss_env",
   "language": "python",
   "name": "python3"
  },
  "language_info": {
   "codemirror_mode": {
    "name": "ipython",
    "version": 3
   },
   "file_extension": ".py",
   "mimetype": "text/x-python",
   "name": "python",
   "nbconvert_exporter": "python",
   "pygments_lexer": "ipython3",
   "version": "3.9.21"
  }
 },
 "nbformat": 4,
 "nbformat_minor": 2
}
